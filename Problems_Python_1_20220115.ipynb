{
  "nbformat": 4,
  "nbformat_minor": 0,
  "metadata": {
    "colab": {
      "provenance": [],
      "authorship_tag": "ABX9TyNZW7bll2fUaA+nYqbsl03a",
      "include_colab_link": true
    },
    "kernelspec": {
      "name": "python3",
      "display_name": "Python 3"
    },
    "language_info": {
      "name": "python"
    }
  },
  "cells": [
    {
      "cell_type": "markdown",
      "metadata": {
        "id": "view-in-github",
        "colab_type": "text"
      },
      "source": [
        "<a href=\"https://colab.research.google.com/github/Th3Mayar/issues_Python/blob/main/Problems_Python_1_20220115.ipynb\" target=\"_parent\"><img src=\"https://colab.research.google.com/assets/colab-badge.svg\" alt=\"Open In Colab\"/></a>"
      ]
    },
    {
      "cell_type": "code",
      "execution_count": null,
      "metadata": {
        "id": "bVx7W_WZxRXY"
      },
      "outputs": [],
      "source": [
        "# Issue 1: Modified FizzBuzz\n",
        "def fizz_buzz_mod(n):\n",
        "    resultado = []\n",
        "    for i in range(1, n+1):\n",
        "        if i % 3 == 0 and i % 5 == 0:\n",
        "            resultado.append(\"FizzBuzz\")\n",
        "        elif i % 3 == 0:\n",
        "            resultado.append(\"Fizz\")\n",
        "        elif i % 5 == 0:\n",
        "            resultado.append(\"Buzz\")\n",
        "        else:\n",
        "            resultado.append(i)\n",
        "    return resultado"
      ]
    },
    {
      "cell_type": "code",
      "source": [
        "# Issue 2: Find the second longest word\n",
        "def segunda_palabra_mas_larga(texto):\n",
        "    palabras = texto.split()\n",
        "    palabras_ordenadas = sorted(palabras, key=lambda x: len(x), reverse=True)\n",
        "    return palabras_ordenadas[1] if len(palabras_ordenadas) > 1 else palabras_ordenadas[0]"
      ],
      "metadata": {
        "id": "Z0x9eR4SxhVu"
      },
      "execution_count": null,
      "outputs": []
    },
    {
      "cell_type": "code",
      "source": [
        "# Issue 3: Adding Submatrices of a Matrix\n",
        "def sumar_submatrices(matriz):\n",
        "    n = len(matriz)\n",
        "    sumas = []\n",
        "\n",
        "    # Submatrices de 1x1 a nxn\n",
        "    for tamaño in range(1, n+1):  # Tamaños de submatrices\n",
        "        for i in range(n - tamaño + 1):  # Filas\n",
        "            for j in range(n - tamaño + 1):  # Columnas\n",
        "                suma = 0\n",
        "                for x in range(i, i + tamaño):\n",
        "                    for y in range(j, j + tamaño):\n",
        "                        suma += matriz[x][y]\n",
        "                sumas.append(suma)\n",
        "\n",
        "    return sumas"
      ],
      "metadata": {
        "id": "I8K3P7UwxkIf"
      },
      "execution_count": null,
      "outputs": []
    },
    {
      "cell_type": "code",
      "source": [
        "# Running examples\n",
        "fizzbuzz_result = fizz_buzz_mod(15)\n",
        "segunda_palabra_result = segunda_palabra_mas_larga(\"In programming, practice makes perfect\")\n",
        "matriz = [\n",
        "    [1, 2, 3],\n",
        "    [4, 5, 6],\n",
        "    [7, 8, 9]\n",
        "]\n",
        "submatrices_result = sumar_submatrices(matriz)"
      ],
      "metadata": {
        "id": "p7zr3AV_xnAN"
      },
      "execution_count": null,
      "outputs": []
    },
    {
      "cell_type": "code",
      "source": [
        "# Show results\n",
        "print(\"Issue 1: Modified FizzBuzz\")\n",
        "print(fizzbuzz_result)\n",
        "\n",
        "print(\"\\nIssue 2: Second longest word\")\n",
        "print(segunda_palabra_result)\n",
        "\n",
        "print(\"\\nIssue 3: Submatrix sums\")\n",
        "print(submatrices_result)"
      ],
      "metadata": {
        "colab": {
          "base_uri": "https://localhost:8080/"
        },
        "id": "-w4d5VfE0kQI",
        "outputId": "69dbcc78-5240-443a-a680-6365f488fe23"
      },
      "execution_count": null,
      "outputs": [
        {
          "output_type": "stream",
          "name": "stdout",
          "text": [
            "Issue 1: Modified FizzBuzz\n",
            "[1, 2, 'Fizz', 4, 'Buzz', 'Fizz', 7, 8, 'Fizz', 'Buzz', 11, 'Fizz', 13, 14, 'FizzBuzz']\n",
            "\n",
            "Issue 2: Second longest word\n",
            "practice\n",
            "\n",
            "Issue 3: Submatrix sums\n",
            "[1, 2, 3, 4, 5, 6, 7, 8, 9, 12, 16, 24, 28, 45]\n"
          ]
        }
      ]
    }
  ]
}